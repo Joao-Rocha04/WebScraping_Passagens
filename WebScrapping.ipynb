{
 "cells": [
  {
   "cell_type": "code",
   "execution_count": 39,
   "metadata": {},
   "outputs": [],
   "source": [
    "import pandas as pd\n",
    "import requests\n",
    "# para extrair informações de páginas HTML\n",
    "import bs4\n",
    "from bs4 import BeautifulSoup\n",
    "\n",
    "# utilizada para nos indicar o caminho do executável do Python\n",
    "import sys\n",
    "\n",
    "# Controlar espera entre requisições\n",
    "import time\n",
    "# Renderizar HTML\n",
    "import IPython\n",
    "\n",
    "import os\n"
   ]
  },
  {
   "cell_type": "code",
   "execution_count": 2,
   "metadata": {},
   "outputs": [],
   "source": [
    "from selenium import webdriver\n",
    "from selenium.webdriver.chrome.options import Options\n",
    "from webdriver_manager.chrome import ChromeDriverManager\n",
    "from selenium.webdriver.chrome.service import Service\n",
    "from selenium.webdriver.common.by import By\n",
    "from selenium.webdriver.common.keys import Keys\n",
    "from selenium.webdriver.support.ui import WebDriverWait\n",
    "from selenium.webdriver.support import expected_conditions as EC\n",
    "from selenium.webdriver.common.action_chains import ActionChains\n"
   ]
  },
  {
   "cell_type": "markdown",
   "metadata": {},
   "source": [
    "### Criando um driver\n",
    "\n",
    "Execute a linha abaixo. Você irá perceber que será criada uma janela do navegador Chrome. Deixe esta janela aberta."
   ]
  },
  {
   "cell_type": "code",
   "execution_count": 28,
   "metadata": {},
   "outputs": [],
   "source": [
    "PROXY = \"117.250.3.58:8080\"\n",
    "chrome_options = webdriver.ChromeOptions()\n",
    "user_agent = 'Mozilla/5.0 (Windows NT 10.0; Win64; x64) AppleWebKit/537.36 (KHTML, like Gecko) Chrome/91.0.4472.124 Safari/537.36'\n",
    "chrome_options.add_argument(f'user-agent={user_agent}')\n",
    "#chrome_options.add_argument('--proxy-server=%s' % PROXY)\n",
    "driver = webdriver.Chrome(service=Service(ChromeDriverManager().install()), options=chrome_options)\n",
    "driver.set_page_load_timeout(60)\n"
   ]
  },
  {
   "cell_type": "markdown",
   "metadata": {},
   "source": [
    "### Selecione os aeroportos de origem e destino"
   ]
  },
  {
   "cell_type": "code",
   "execution_count": 29,
   "metadata": {},
   "outputs": [],
   "source": [
    "aeroporto_origem = 'Curitiba'\n",
    "aeroporto_destino = 'Fortaleza'"
   ]
  },
  {
   "cell_type": "markdown",
   "metadata": {},
   "source": [
    "# Começar o Web Scrapping\n"
   ]
  },
  {
   "cell_type": "markdown",
   "metadata": {},
   "source": [
    "### Selecionar a url e abrir o site"
   ]
  },
  {
   "cell_type": "code",
   "execution_count": 30,
   "metadata": {},
   "outputs": [],
   "source": [
    "url = \"https://www.voegol.com.br/\"\n",
    "\n",
    "# Abrir o site da Decolar\n",
    "driver.get(url)"
   ]
  },
  {
   "cell_type": "code",
   "execution_count": 31,
   "metadata": {},
   "outputs": [],
   "source": [
    "rejeitar_cookies = driver.find_element(By.XPATH, '//*[@id=\"onetrust-reject-all-handler\"]')\n",
    "rejeitar_cookies.click()"
   ]
  },
  {
   "cell_type": "markdown",
   "metadata": {},
   "source": [
    "Selecionar trecho apenas de ida."
   ]
  },
  {
   "cell_type": "code",
   "execution_count": 32,
   "metadata": {},
   "outputs": [],
   "source": [
    "trecho_unico = driver.find_element(By.XPATH, '//*[@id=\"edit-fieldset-route-type\"]')\n",
    "trecho_unico.click()\n",
    "\n",
    "ida_ou_volta = driver.find_element(By.XPATH, '//*[@id=\"edit-fieldset-route-type-options\"]/div/div[2]/label')\n",
    "ida_ou_volta.click()"
   ]
  },
  {
   "cell_type": "markdown",
   "metadata": {},
   "source": [
    "### Digitar nossa origem na barra de pesquisa"
   ]
  },
  {
   "cell_type": "code",
   "execution_count": 33,
   "metadata": {},
   "outputs": [],
   "source": [
    "barra_origem = driver.find_element(By.XPATH, \"//*[@id='select2-edit-origin-container']\")\n",
    "ActionChains(driver).click(barra_origem).perform()\n",
    "\n",
    "\n",
    "\n",
    "# Esperar até que a barra de pesquisa esteja disponível\n",
    "search_bar_origem = WebDriverWait(driver, 10).until(\n",
    "    EC.presence_of_element_located((By.XPATH, \"//*[@id='edit-fieldset-origin']/div/span[1]/span[1]/span[1]/input\"))\n",
    ")\n",
    "\n",
    "\n",
    "# Limpar o campo de origem e inserir aeroporto origem\n",
    "#search_bar_origem.clear()\n",
    "#time.sleep(1)\n",
    "\n",
    "# Clicar na barra de pesquisa\n",
    "ActionChains(driver).click(search_bar_origem).perform()\n",
    "time.sleep(1)\n",
    "\n",
    "# Limpar a barra de pesquisa (CTRL+A e DELETE)\n",
    "ActionChains(driver).key_down(Keys.CONTROL).send_keys(\"a\").key_up(Keys.CONTROL).send_keys(Keys.DELETE).perform()\n",
    "time.sleep(1)\n",
    "\n",
    "# Digitar \"Curitiba\" na barra de pesquisa\n",
    "ActionChains(driver).send_keys_to_element(search_bar_origem, aeroporto_origem).perform()\n",
    "time.sleep(1)\n",
    "\n",
    "# Pressionar Enter\n",
    "ActionChains(driver).send_keys(Keys.ENTER).perform()\n",
    "time.sleep(1)"
   ]
  },
  {
   "cell_type": "markdown",
   "metadata": {},
   "source": [
    "### Digitar nosso destino na barra de pesquisa"
   ]
  },
  {
   "cell_type": "code",
   "execution_count": 34,
   "metadata": {},
   "outputs": [],
   "source": [
    "barra_destino = driver.find_element(By.XPATH, \"//*[@id='select2-edit-destiny-container']\")\n",
    "ActionChains(driver).click(barra_destino).perform()\n",
    "time.sleep(1)\n",
    "\n",
    "search_bar_destino = driver.find_element(By.XPATH, \"//*[@id='edit-fieldset-destiny']/div[1]/span[1]/span[1]/span[1]/input\")\n",
    "\n",
    "ActionChains(driver).click(search_bar_destino).key_down(Keys.CONTROL).send_keys(\"a\").key_up(Keys.CONTROL).send_keys(Keys.DELETE).perform()\n",
    "ActionChains(driver).send_keys_to_element(search_bar_destino, aeroporto_destino).perform()\n",
    "time.sleep(1)\n",
    "ActionChains(driver).send_keys(Keys.ENTER).perform()\n",
    "time.sleep(1)"
   ]
  },
  {
   "cell_type": "markdown",
   "metadata": {},
   "source": [
    "### Selecionar Data de partida e retorno"
   ]
  },
  {
   "cell_type": "markdown",
   "metadata": {},
   "source": [
    "\n",
    "# Selecionar as datas"
   ]
  },
  {
   "cell_type": "code",
   "execution_count": 35,
   "metadata": {},
   "outputs": [],
   "source": [
    "escolher_ida = driver.find_element(By.XPATH, \"//*[@id='edit-departure-date']\")\n",
    "escolher_ida.click()\n",
    "\n",
    "time.sleep(3)\n",
    "\n",
    "# 17/06/2024\n",
    "data_partida_selector = driver.find_element(By.XPATH, \"//*[@id='datepicker-calendar']/div/div[2]/table/tbody/tr[4]/td[2]/a\")\n",
    "data_partida_selector.click()"
   ]
  },
  {
   "cell_type": "code",
   "execution_count": 36,
   "metadata": {},
   "outputs": [],
   "source": [
    "botao_aplicar = driver.find_element(By.XPATH, \"//*[@id='ticket-search-submit']\")\n",
    "botao_aplicar.click()"
   ]
  },
  {
   "cell_type": "markdown",
   "metadata": {},
   "source": [
    "Codigo acima funciona! mas precisa ver como fazer para que um input digitado ache a data correta no Xpath"
   ]
  },
  {
   "cell_type": "code",
   "execution_count": 41,
   "metadata": {},
   "outputs": [],
   "source": [
    "preco_elements = driver.find_elements(By.XPATH, \"//*[contains(@id, 'lbl_priceValue_') and contains(@id, '_emission')]\")\n",
    "\n",
    "# Extrair os valores dos preços para sexta-feira e converter para float\n",
    "precos_sexta = [float(element.text.replace('R$', '').replace('.', '').replace(',', '.')) for element in preco_elements if element.text.strip()]\n",
    "\n",
    "# Calcular o preço mais barato e o preço médio para sexta-feira\n",
    "preco_minimo_sexta = min(precos_sexta) if precos_sexta else None\n",
    "preco_medio_sexta = sum(precos_sexta) / len(precos_sexta) if precos_sexta else None\n",
    "\n",
    "# Criar o DataFrame com os resultados\n",
    "df = pd.DataFrame({\n",
    "    'Dia da Semana': ['Sexta-feira'],\n",
    "    'Preço Mais Barato': [preco_minimo_sexta],\n",
    "    'Preço Médio': [preco_medio_sexta]\n",
    "})\n",
    "\n",
    "# Definir o dia da semana como índice\n",
    "df.set_index('Dia da Semana', inplace=True)\n",
    "\n",
    "# Caminho do arquivo Excel\n",
    "excel_file = 'precos_voos.xlsx'\n",
    "\n",
    "# Verificar se o arquivo Excel existe\n",
    "if os.path.isfile(excel_file):\n",
    "    # Carregar o arquivo Excel existente\n",
    "    df_existing = pd.read_excel(excel_file, index_col='Dia da Semana')\n",
    "\n",
    "    # Atualizar o DataFrame existente com os novos dados\n",
    "    df_existing.loc['Sexta-feira'] = df.loc['Sexta-feira']\n",
    "    \n",
    "    # Salvar o DataFrame atualizado no arquivo Excel\n",
    "    with pd.ExcelWriter(excel_file) as writer:\n",
    "        df_existing.to_excel(writer)\n",
    "else:\n",
    "    # Salvar o DataFrame em um novo arquivo Excel\n",
    "    with pd.ExcelWriter(excel_file) as writer:\n",
    "        df.to_excel(writer)\n"
   ]
  },
  {
   "cell_type": "code",
   "execution_count": null,
   "metadata": {},
   "outputs": [],
   "source": []
  }
 ],
 "metadata": {
  "kernelspec": {
   "display_name": "Python 3 (ipykernel)",
   "language": "python",
   "name": "python3"
  },
  "language_info": {
   "codemirror_mode": {
    "name": "ipython",
    "version": 3
   },
   "file_extension": ".py",
   "mimetype": "text/x-python",
   "name": "python",
   "nbconvert_exporter": "python",
   "pygments_lexer": "ipython3",
   "version": "3.9.12"
  }
 },
 "nbformat": 4,
 "nbformat_minor": 2
}

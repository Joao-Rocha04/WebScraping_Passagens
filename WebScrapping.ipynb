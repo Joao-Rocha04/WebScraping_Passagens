{
 "cells": [
  {
   "cell_type": "code",
   "execution_count": 41,
   "metadata": {},
   "outputs": [],
   "source": [
    "import pandas as pd\n",
    "import requests\n",
    "# para extrair informações de páginas HTML\n",
    "import bs4\n",
    "from bs4 import BeautifulSoup\n",
    "\n",
    "# utilizada para nos indicar o caminho do executável do Python\n",
    "import sys\n",
    "\n",
    "# Controlar espera entre requisições\n",
    "import time\n",
    "# Renderizar HTML\n",
    "import IPython\n"
   ]
  },
  {
   "cell_type": "code",
   "execution_count": 42,
   "metadata": {},
   "outputs": [],
   "source": [
    "from selenium import webdriver\n",
    "from selenium.webdriver.chrome.options import Options\n",
    "from webdriver_manager.chrome import ChromeDriverManager\n",
    "from selenium.webdriver.chrome.service import Service\n",
    "from selenium.webdriver.common.by import By\n",
    "from selenium.webdriver.common.keys import Keys\n",
    "from selenium.webdriver.support.ui import WebDriverWait\n",
    "from selenium.webdriver.support import expected_conditions as EC\n",
    "from selenium.webdriver.common.action_chains import ActionChains\n"
   ]
  },
  {
   "cell_type": "markdown",
   "metadata": {},
   "source": [
    "### Criando um driver\n",
    "\n",
    "Execute a linha abaixo. Você irá perceber que será criada uma janela do navegador Chrome. Deixe esta janela aberta."
   ]
  },
  {
   "cell_type": "code",
   "execution_count": 127,
   "metadata": {},
   "outputs": [],
   "source": [
    "PROXY = \"117.250.3.58:8080\"\n",
    "chrome_options = webdriver.ChromeOptions()\n",
    "user_agent = 'Mozilla/5.0 (Windows NT 10.0; Win64; x64) AppleWebKit/537.36 (KHTML, like Gecko) Chrome/91.0.4472.124 Safari/537.36'\n",
    "chrome_options.add_argument(f'user-agent={user_agent}')\n",
    "#chrome_options.add_argument('--proxy-server=%s' % PROXY)\n",
    "driver = webdriver.Chrome(service=Service(ChromeDriverManager().install()), options=chrome_options)\n",
    "driver.set_page_load_timeout(60)\n"
   ]
  },
  {
   "cell_type": "markdown",
   "metadata": {},
   "source": [
    "### Selecione os aeroportos de origem e destino"
   ]
  },
  {
   "cell_type": "code",
   "execution_count": 128,
   "metadata": {},
   "outputs": [],
   "source": [
    "aeroporto_origem = 'Curitiba'\n",
    "aeroporto_destino = 'Fortaleza'"
   ]
  },
  {
   "cell_type": "markdown",
   "metadata": {},
   "source": [
    "# Começar o Web Scrapping\n"
   ]
  },
  {
   "cell_type": "markdown",
   "metadata": {},
   "source": [
    "### Selecionar a url e abrir o site"
   ]
  },
  {
   "cell_type": "code",
   "execution_count": 129,
   "metadata": {},
   "outputs": [],
   "source": [
    "url = \"https://www.voegol.com.br/\"\n",
    "\n",
    "# Abrir o site da Decolar\n",
    "driver.get(url)"
   ]
  },
  {
   "cell_type": "code",
   "execution_count": 130,
   "metadata": {},
   "outputs": [],
   "source": [
    "rejeitar_cookies = driver.find_element(By.XPATH, '//*[@id=\"onetrust-reject-all-handler\"]')\n",
    "rejeitar_cookies.click()"
   ]
  },
  {
   "cell_type": "markdown",
   "metadata": {},
   "source": [
    "### Digitar nossa origem na barra de pesquisa"
   ]
  },
  {
   "cell_type": "code",
   "execution_count": 131,
   "metadata": {},
   "outputs": [],
   "source": [
    "barra_origem = driver.find_element(By.XPATH, \"//*[@id='select2-edit-origin-container']\")\n",
    "ActionChains(driver).click(barra_origem).perform()\n",
    "\n",
    "\n",
    "\n",
    "# Esperar até que a barra de pesquisa esteja disponível\n",
    "search_bar_origem = WebDriverWait(driver, 10).until(\n",
    "    EC.presence_of_element_located((By.XPATH, \"//*[@id='edit-fieldset-origin']/div/span[1]/span[1]/span[1]/input\"))\n",
    ")\n",
    "\n",
    "\n",
    "# Limpar o campo de origem e inserir aeroporto origem\n",
    "#search_bar_origem.clear()\n",
    "#time.sleep(1)\n",
    "\n",
    "# Clicar na barra de pesquisa\n",
    "ActionChains(driver).click(search_bar_origem).perform()\n",
    "time.sleep(1)\n",
    "\n",
    "# Limpar a barra de pesquisa (CTRL+A e DELETE)\n",
    "ActionChains(driver).key_down(Keys.CONTROL).send_keys(\"a\").key_up(Keys.CONTROL).send_keys(Keys.DELETE).perform()\n",
    "time.sleep(1)\n",
    "\n",
    "# Digitar \"Curitiba\" na barra de pesquisa\n",
    "ActionChains(driver).send_keys_to_element(search_bar_origem, aeroporto_origem).perform()\n",
    "time.sleep(1)\n",
    "\n",
    "# Pressionar Enter\n",
    "ActionChains(driver).send_keys(Keys.ENTER).perform()\n",
    "time.sleep(1)"
   ]
  },
  {
   "cell_type": "markdown",
   "metadata": {},
   "source": [
    "### Digitar nosso destino na barra de pesquisa"
   ]
  },
  {
   "cell_type": "code",
   "execution_count": 132,
   "metadata": {},
   "outputs": [],
   "source": [
    "barra_destino = driver.find_element(By.XPATH, \"//*[@id='select2-edit-destiny-container']\")\n",
    "ActionChains(driver).click(barra_destino).perform()\n",
    "time.sleep(1)\n",
    "\n",
    "search_bar_destino = driver.find_element(By.XPATH, \"//*[@id='edit-fieldset-destiny']/div[1]/span[1]/span[1]/span[1]/input\")\n",
    "\n",
    "ActionChains(driver).click(search_bar_destino).key_down(Keys.CONTROL).send_keys(\"a\").key_up(Keys.CONTROL).send_keys(Keys.DELETE).perform()\n",
    "ActionChains(driver).send_keys_to_element(search_bar_destino, aeroporto_destino).perform()\n",
    "time.sleep(1)\n",
    "ActionChains(driver).send_keys(Keys.ENTER).perform()\n",
    "time.sleep(1)"
   ]
  },
  {
   "cell_type": "markdown",
   "metadata": {},
   "source": [
    "### Selecionar Data de partida e retorno"
   ]
  },
  {
   "cell_type": "markdown",
   "metadata": {},
   "source": [
    "\n",
    "# Selecionar as datas"
   ]
  },
  {
   "cell_type": "code",
   "execution_count": 135,
   "metadata": {},
   "outputs": [],
   "source": [
    "escolher_ida = driver.find_element(By.XPATH, \"//*[@id='edit-departure-date']\")\n",
    "escolher_ida.click()\n",
    "\n",
    "time.sleep(3)\n",
    "\n",
    "data_partida_selector = driver.find_element(By.XPATH, \"//*[@id='datepicker-calendar']/div/div[1]/table/tbody/tr[5]/td[4]/a\")\n",
    "data_partida_selector.click()"
   ]
  },
  {
   "cell_type": "code",
   "execution_count": 136,
   "metadata": {},
   "outputs": [],
   "source": [
    "escolher_volta = driver.find_element(By.XPATH, \"//*[@id='edit-back-date']\")\n",
    "escolher_volta.click()\n",
    "\n",
    "time.sleep(3)\n",
    "\n",
    "data_retorno_selector = driver.find_element(By.XPATH, \"//*[@id='datepicker-calendar']/div/div[2]/table/tbody/tr[5]/td[4]/a\")\n",
    "data_retorno_selector.click()"
   ]
  },
  {
   "cell_type": "code",
   "execution_count": 137,
   "metadata": {},
   "outputs": [],
   "source": [
    "\n",
    "botao_aplicar = driver.find_element(By.XPATH, \"//*[@id='ticket-search-submit']\")\n",
    "botao_aplicar.click()"
   ]
  },
  {
   "cell_type": "markdown",
   "metadata": {},
   "source": [
    "Codigo acima funciona! mas precisa ver como fazer para que um input digitado ache a data correta no Xpath"
   ]
  },
  {
   "cell_type": "code",
   "execution_count": 139,
   "metadata": {},
   "outputs": [
    {
     "data": {
      "text/html": [
       "<div>\n",
       "<style scoped>\n",
       "    .dataframe tbody tr th:only-of-type {\n",
       "        vertical-align: middle;\n",
       "    }\n",
       "\n",
       "    .dataframe tbody tr th {\n",
       "        vertical-align: top;\n",
       "    }\n",
       "\n",
       "    .dataframe thead th {\n",
       "        text-align: right;\n",
       "    }\n",
       "</style>\n",
       "<table border=\"1\" class=\"dataframe\">\n",
       "  <thead>\n",
       "    <tr style=\"text-align: right;\">\n",
       "      <th></th>\n",
       "      <th>Preços para 29/05/2024</th>\n",
       "    </tr>\n",
       "  </thead>\n",
       "  <tbody>\n",
       "    <tr>\n",
       "      <th>0</th>\n",
       "      <td>R$ 654,89</td>\n",
       "    </tr>\n",
       "    <tr>\n",
       "      <th>1</th>\n",
       "      <td>R$ 654,89</td>\n",
       "    </tr>\n",
       "    <tr>\n",
       "      <th>2</th>\n",
       "      <td>R$ 654,89</td>\n",
       "    </tr>\n",
       "    <tr>\n",
       "      <th>3</th>\n",
       "      <td>R$ 654,89</td>\n",
       "    </tr>\n",
       "    <tr>\n",
       "      <th>4</th>\n",
       "      <td>R$ 654,89</td>\n",
       "    </tr>\n",
       "    <tr>\n",
       "      <th>5</th>\n",
       "      <td>R$ 1.865,89</td>\n",
       "    </tr>\n",
       "    <tr>\n",
       "      <th>6</th>\n",
       "      <td>R$ 2.215,89</td>\n",
       "    </tr>\n",
       "    <tr>\n",
       "      <th>7</th>\n",
       "      <td>R$ 2.515,89</td>\n",
       "    </tr>\n",
       "    <tr>\n",
       "      <th>8</th>\n",
       "      <td>R$ 2.515,89</td>\n",
       "    </tr>\n",
       "    <tr>\n",
       "      <th>9</th>\n",
       "      <td>R$ 2.515,89</td>\n",
       "    </tr>\n",
       "    <tr>\n",
       "      <th>10</th>\n",
       "      <td>R$ 2.515,89</td>\n",
       "    </tr>\n",
       "  </tbody>\n",
       "</table>\n",
       "</div>"
      ],
      "text/plain": [
       "   Preços para 29/05/2024\n",
       "0               R$ 654,89\n",
       "1               R$ 654,89\n",
       "2               R$ 654,89\n",
       "3               R$ 654,89\n",
       "4               R$ 654,89\n",
       "5             R$ 1.865,89\n",
       "6             R$ 2.215,89\n",
       "7             R$ 2.515,89\n",
       "8             R$ 2.515,89\n",
       "9             R$ 2.515,89\n",
       "10            R$ 2.515,89"
      ]
     },
     "execution_count": 139,
     "metadata": {},
     "output_type": "execute_result"
    }
   ],
   "source": [
    "precos_ida = []\n",
    "\n",
    "for i in range(1, 12):  # Substitua o número máximo de preços que você deseja obter\n",
    "    xpath = \"//*[@id='lbl_priceValue_{}_emission']\".format(i)\n",
    "    elemento = driver.find_element(By.XPATH, xpath)\n",
    "    preco = elemento.text\n",
    "    precos_ida.append(preco)\n",
    "\n",
    "# preco_elements = driver.find_elements_by_xpath('//*[@id=\"lbl_priceValue_1_emission\"]')\n",
    "\n",
    "# Extrair os valores dos preços\n",
    "# precos = [element.text for element in preco_elements]\n",
    "\n",
    "# Criar um DataFrame com os valores dos preços\n",
    "df = pd.DataFrame({'Preços para 29/05/2024': precos_ida})\n",
    "\n",
    "#df.to_csv('caminho/do/arquivo.csv', index=False)\n",
    "\n",
    "df"
   ]
  },
  {
   "cell_type": "code",
   "execution_count": 140,
   "metadata": {},
   "outputs": [],
   "source": [
    "menor_preco = min(precos_ida)\n",
    "\n",
    "for i in range(1, 12):  # Substitua o número máximo de preços que você deseja obter\n",
    "    xpath = \"//*[@id='lbl_priceValue_{}_emission']\".format(i)\n",
    "    elemento = driver.find_element(By.XPATH, xpath)\n",
    "    preco = elemento.text\n",
    "    if preco == menor_preco:\n",
    "        driver.execute_script(\"arguments[0].scrollIntoView();\", elemento)\n",
    "        driver.execute_script(\"arguments[0].click();\", elemento)\n",
    "        break"
   ]
  },
  {
   "cell_type": "code",
   "execution_count": null,
   "metadata": {},
   "outputs": [],
   "source": []
  },
  {
   "cell_type": "code",
   "execution_count": 147,
   "metadata": {},
   "outputs": [],
   "source": [
    "#tarifa_light = driver.find_element(By.XPATH, \"//*[@id='flight-G31785']/div[1]/ul/li[1]/b2c-card/article/div[2]/div/div/label/span\")\n",
    "#tarifa_light.click()\n",
    "\n",
    "time.sleep(1)\n",
    "\n",
    "continuar = driver.find_element(By.XPATH, \"//*[@id='btn_selectReturnFlight_emission']/span\")\n",
    "driver.execute_script(\"arguments[0].click();\", continuar)"
   ]
  },
  {
   "cell_type": "code",
   "execution_count": null,
   "metadata": {},
   "outputs": [],
   "source": [
    "precos_volta = []\n",
    "\n",
    "for i in range(1, 12):  # Substitua o número máximo de preços que você deseja obter\n",
    "    xpath = \"//*[@id='lbl_priceValue_{}_emission']\".format(i)\n",
    "    elemento = driver.find_element(By.XPATH, xpath)\n",
    "    preco = elemento.text\n",
    "    precos_volta.append(preco)\n",
    "\n",
    "    import pandas as pd\n",
    "\n",
    "    df['Preços para 31/05/2024'] = precos_volta\n",
    "\n",
    "    # Verificar o DataFrame atualizado\n",
    "\n"
   ]
  },
  {
   "cell_type": "code",
   "execution_count": 8,
   "metadata": {},
   "outputs": [
    {
     "ename": "NameError",
     "evalue": "name 'preco_recomendado' is not defined",
     "output_type": "error",
     "traceback": [
      "\u001b[1;31m---------------------------------------------------------------------------\u001b[0m",
      "\u001b[1;31mNameError\u001b[0m                                 Traceback (most recent call last)",
      "Input \u001b[1;32mIn [8]\u001b[0m, in \u001b[0;36m<cell line: 22>\u001b[1;34m()\u001b[0m\n\u001b[0;32m     19\u001b[0m     \u001b[38;5;66;03m# Salva de volta para o CSV\u001b[39;00m\n\u001b[0;32m     20\u001b[0m     updated_df\u001b[38;5;241m.\u001b[39mto_csv(filepath, index\u001b[38;5;241m=\u001b[39m\u001b[38;5;28;01mFalse\u001b[39;00m)\n\u001b[0;32m     22\u001b[0m daily_data \u001b[38;5;241m=\u001b[39m pd\u001b[38;5;241m.\u001b[39mDataFrame({\n\u001b[0;32m     23\u001b[0m     \u001b[38;5;124m'\u001b[39m\u001b[38;5;124mData\u001b[39m\u001b[38;5;124m'\u001b[39m: pd\u001b[38;5;241m.\u001b[39mTimestamp(\u001b[38;5;124m'\u001b[39m\u001b[38;5;124mtoday\u001b[39m\u001b[38;5;124m'\u001b[39m)\u001b[38;5;241m.\u001b[39mstrftime(\u001b[38;5;124m'\u001b[39m\u001b[38;5;124m%\u001b[39m\u001b[38;5;124mY-\u001b[39m\u001b[38;5;124m%\u001b[39m\u001b[38;5;124mm-\u001b[39m\u001b[38;5;132;01m%d\u001b[39;00m\u001b[38;5;124m'\u001b[39m),\n\u001b[1;32m---> 24\u001b[0m     \u001b[38;5;124m'\u001b[39m\u001b[38;5;124mPreço Recomendado\u001b[39m\u001b[38;5;124m'\u001b[39m: \u001b[43mpreco_recomendado\u001b[49m,\n\u001b[0;32m     25\u001b[0m     \u001b[38;5;124m'\u001b[39m\u001b[38;5;124mPreço Mais Barato\u001b[39m\u001b[38;5;124m'\u001b[39m: preco_barato,\n\u001b[0;32m     26\u001b[0m     \u001b[38;5;124m'\u001b[39m\u001b[38;5;124mPreço Mais Rápido\u001b[39m\u001b[38;5;124m'\u001b[39m: preco_rapido\n\u001b[0;32m     27\u001b[0m })\n\u001b[0;32m     29\u001b[0m save_data(daily_data, file_path)\n",
      "\u001b[1;31mNameError\u001b[0m: name 'preco_recomendado' is not defined"
     ]
    }
   ],
   "source": [
    "file_path = 'dados_precos.csv'\n",
    "\n",
    "def load_existing_data(filepath):\n",
    "    try:\n",
    "        # Tenta carregar os dados existentes\n",
    "        return pd.read_csv(filepath)\n",
    "    except FileNotFoundError:\n",
    "        # Se o arquivo não existir, cria um DataFrame vazio com as colunas desejadas\n",
    "        return pd.DataFrame(columns=['Data', 'Preço Recomendado', 'Preço Mais Barato', 'Preço Mais Rápido'])\n",
    "    \n",
    "\n",
    "def save_data(new_data, filepath):\n",
    "    # Carrega os dados existentes\n",
    "    df = load_existing_data(filepath)\n",
    "    \n",
    "    # Concatena os novos dados\n",
    "    updated_df = pd.concat([df, new_data], ignore_index=True)\n",
    "    \n",
    "    # Salva de volta para o CSV\n",
    "    updated_df.to_csv(filepath, index=False)\n",
    "\n",
    "daily_data = pd.DataFrame({\n",
    "    'Data': pd.Timestamp('today').strftime('%Y-%m-%d'),\n",
    "    'Preço Recomendado': preco_recomendado,\n",
    "    'Preço Mais Barato': preco_barato,\n",
    "    'Preço Mais Rápido': preco_rapido\n",
    "})\n",
    "\n",
    "save_data(daily_data, file_path)"
   ]
  },
  {
   "cell_type": "code",
   "execution_count": null,
   "metadata": {},
   "outputs": [],
   "source": [
    "\n",
    "\n",
    "# Esperar até que a página de resultados de voos seja carregada\n",
    "WebDriverWait(driver, 20).until(\n",
    "    EC.visibility_of_element_located((By.XPATH, \"//div[@class='resultsWrapper___1i6rS']\"))\n",
    ")\n",
    "\n",
    "# Obter os resultados dos voos\n",
    "flight_results = driver.find_elements(By.XPATH, \"//div[@class='card___3P3DA']\")\n",
    "\n",
    "# Imprimir os resultados\n",
    "print(\"Oportunidades de voos de Curitiba para São Paulo:\")\n",
    "for result in flight_results:\n",
    "    print(result.text)\n",
    "\n",
    "# Fechar o navegador\n",
    "driver.quit()"
   ]
  },
  {
   "cell_type": "code",
   "execution_count": null,
   "metadata": {},
   "outputs": [],
   "source": []
  }
 ],
 "metadata": {
  "kernelspec": {
   "display_name": "Python 3 (ipykernel)",
   "language": "python",
   "name": "python3"
  },
  "language_info": {
   "codemirror_mode": {
    "name": "ipython",
    "version": 3
   },
   "file_extension": ".py",
   "mimetype": "text/x-python",
   "name": "python",
   "nbconvert_exporter": "python",
   "pygments_lexer": "ipython3",
   "version": "3.9.12"
  }
 },
 "nbformat": 4,
 "nbformat_minor": 2
}

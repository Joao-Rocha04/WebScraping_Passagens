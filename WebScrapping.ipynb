{
 "cells": [
  {
   "cell_type": "code",
   "execution_count": 9,
   "metadata": {},
   "outputs": [],
   "source": [
    "import pandas as pd\n",
    "import requests\n",
    "# para extrair informações de páginas HTML\n",
    "import bs4\n",
    "from bs4 import BeautifulSoup\n",
    "\n",
    "# utilizada para nos indicar o caminho do executável do Python\n",
    "import sys\n",
    "\n",
    "# Controlar espera entre requisições\n",
    "import time\n",
    "# Renderizar HTML\n",
    "import IPython\n"
   ]
  },
  {
   "cell_type": "code",
   "execution_count": 10,
   "metadata": {},
   "outputs": [],
   "source": [
    "from selenium import webdriver\n",
    "from selenium.webdriver.chrome.options import Options\n",
    "from webdriver_manager.chrome import ChromeDriverManager\n",
    "from selenium.webdriver.chrome.service import Service\n",
    "from selenium.webdriver.common.by import By\n",
    "from selenium.webdriver.common.keys import Keys\n",
    "from selenium.webdriver.support.ui import WebDriverWait\n",
    "from selenium.webdriver.support import expected_conditions as EC\n",
    "from selenium.webdriver.common.action_chains import ActionChains\n"
   ]
  },
  {
   "cell_type": "markdown",
   "metadata": {},
   "source": [
    "### Criando um driver\n",
    "\n",
    "Execute a linha abaixo. Você irá perceber que será criada uma janela do navegador Chrome. Deixe esta janela aberta."
   ]
  },
  {
   "cell_type": "code",
   "execution_count": 11,
   "metadata": {},
   "outputs": [],
   "source": [
    "PROXY = \"117.250.3.58:8080\"\n",
    "chrome_options = webdriver.ChromeOptions()\n",
    "user_agent = 'Mozilla/5.0 (Windows NT 10.0; Win64; x64) AppleWebKit/537.36 (KHTML, like Gecko) Chrome/91.0.4472.124 Safari/537.36'\n",
    "chrome_options.add_argument(f'user-agent={user_agent}')\n",
    "#chrome_options.add_argument('--proxy-server=%s' % PROXY)\n",
    "driver = webdriver.Chrome(service=Service(ChromeDriverManager().install()), options=chrome_options)\n",
    "driver.set_page_load_timeout(60)\n"
   ]
  },
  {
   "cell_type": "markdown",
   "metadata": {},
   "source": [
    "### Selecione os aeroportos de origem e destino"
   ]
  },
  {
   "cell_type": "code",
   "execution_count": 4,
   "metadata": {},
   "outputs": [],
   "source": [
    "aeroporto_origem = 'Curitiba'\n",
    "aeroporto_destino = 'Fortaleza'"
   ]
  },
  {
   "cell_type": "markdown",
   "metadata": {},
   "source": [
    "# Começar o Web Scrapping\n"
   ]
  },
  {
   "cell_type": "markdown",
   "metadata": {},
   "source": [
    "### Selecionar a url e abrir o site"
   ]
  },
  {
   "cell_type": "code",
   "execution_count": 5,
   "metadata": {},
   "outputs": [],
   "source": [
    "url = \"https://www.skyscanner.com.br/\"\n",
    "\n",
    "# Abrir o site da Decolar\n",
    "driver.get(url)"
   ]
  },
  {
   "cell_type": "markdown",
   "metadata": {},
   "source": [
    "### Digitar nossa origem na barra de pesquisa"
   ]
  },
  {
   "cell_type": "code",
   "execution_count": 6,
   "metadata": {},
   "outputs": [],
   "source": [
    "# Esperar até que a barra de pesquisa esteja disponível\n",
    "search_bar_origem = WebDriverWait(driver, 10).until(\n",
    "    EC.presence_of_element_located((By.XPATH, \"//*[@id='originInput-input']\"))\n",
    ")\n",
    "\n",
    "\n",
    "# Limpar o campo de origem e inserir aeroporto origem\n",
    "#search_bar_origem.clear()\n",
    "#time.sleep(1)\n",
    "\n",
    "# Digitar \"Curitiba\" na caixa de texto\n",
    "ActionChains(driver).click(search_bar_origem).key_down(Keys.CONTROL).send_keys(\"a\").key_up(Keys.CONTROL).send_keys(Keys.DELETE).perform()\n",
    "ActionChains(driver).send_keys_to_element(search_bar_origem, aeroporto_origem).perform()\n",
    "time.sleep(1)\n",
    "ActionChains(driver).send_keys(Keys.ENTER).perform()\n",
    "time.sleep(1)"
   ]
  },
  {
   "cell_type": "markdown",
   "metadata": {},
   "source": [
    "### Digitar nosso destino na barra de pesquisa"
   ]
  },
  {
   "cell_type": "code",
   "execution_count": 7,
   "metadata": {},
   "outputs": [],
   "source": [
    "search_bar_destino = driver.find_element(By.XPATH, \"//*[@id='destinationInput-input']\")\n",
    "\n",
    "ActionChains(driver).click(search_bar_destino).key_down(Keys.CONTROL).send_keys(\"a\").key_up(Keys.CONTROL).send_keys(Keys.DELETE).perform()\n",
    "ActionChains(driver).send_keys_to_element(search_bar_destino, aeroporto_destino).perform()\n",
    "time.sleep(1)\n",
    "ActionChains(driver).send_keys(Keys.ENTER).perform()\n",
    "time.sleep(1)"
   ]
  },
  {
   "cell_type": "markdown",
   "metadata": {},
   "source": [
    "### Selecionar Data de partida e retorno"
   ]
  },
  {
   "cell_type": "markdown",
   "metadata": {},
   "source": [
    "\n",
    "# Selecionar as datas"
   ]
  },
  {
   "cell_type": "code",
   "execution_count": null,
   "metadata": {},
   "outputs": [],
   "source": [
    "# Inserir a data de partida e retorno\n",
    "\n",
    "#//*[@id='component-modals']/div[1]/div[2]/div/div[1]/div[3]/div[17] mes 5 dia 17\n",
    "                                                   #|  1 significa mes atual\n",
    "#//*[@id=\"component-modals\"]/div[1]/div[2]/div/div[2]/div[3]/div[17]/div mes 6 dia 17\n",
    "data_partida_selector = driver.find_element(By.XPATH, \"//*[@id='app-root']/div[1]/div/div/main/div[1]/div/div[3]/div/div[3]/div[1]/div/button/span[2]\")\n",
    "data_partida_selector.click()"
   ]
  },
  {
   "cell_type": "code",
   "execution_count": null,
   "metadata": {},
   "outputs": [],
   "source": [
    "data_partida = driver.find_element(By.XPATH, \"//*[@id='app-root']/div[1]/div/div/main/div[1]/div/div[3]/div/div[3]/div[2]/div/div/div[1]/div[3]/div[2]/div[1]/div/div[2]/div[3]/div[6]/div/button\")\n",
    "data_partida.click()"
   ]
  },
  {
   "cell_type": "code",
   "execution_count": null,
   "metadata": {},
   "outputs": [],
   "source": [
    "data_retorno_selector = driver.find_element(By.XPATH, \"//*[@id='app-root']/div[1]/div/div/main/div[1]/div/div[3]/div/div[3]/div[2]/div/button/span[2]\")\n",
    "data_retorno_selector.click()"
   ]
  },
  {
   "cell_type": "code",
   "execution_count": null,
   "metadata": {},
   "outputs": [],
   "source": [
    "data_retorno = driver.find_element(By.XPATH, \"//*[@id='app-root']/div[1]/div/div/main/div[1]/div/div[3]/div/div[3]/div[2]/div/button/span[2]\")\n",
    "data_retorno.click()\n",
    "\n",
    "botao_aplicar = driver.find_element(By.XPATH, \"//*[@id='app-root']/div[1]/div/div/main/div[1]/div/div[3]/div/div[3]/div[3]/div/div/div[1]/div[3]/div[2]/div[2]/div/div[2]/div[4]/div[6]/div/button\")\n",
    "botao_aplicar.click()"
   ]
  },
  {
   "cell_type": "markdown",
   "metadata": {},
   "source": [
    "Codigo acima funciona! mas precisa ver como fazer para que um input digitado ache a data correta no Xpath"
   ]
  },
  {
   "cell_type": "code",
   "execution_count": null,
   "metadata": {},
   "outputs": [],
   "source": [
    "# Clicar no botão de buscar voos\n",
    "search_button = driver.find_element(By.XPATH, \"//*[@id='app-root']/div[1]/div/div/main/div[1]/div/div[3]/div/button\")\n",
    "search_button.click()"
   ]
  },
  {
   "cell_type": "code",
   "execution_count": null,
   "metadata": {},
   "outputs": [],
   "source": [
    "preco_recomendado = driver.find_element(By.XPATH, \"//*[@id='app-root']/div[1]/div/div/div/div[1]/div[3]/div[1]/button/div/div/div/span\")\n",
    "preco_barato = driver.find_element(By.XPATH, \"//*[@id='app-root']/div[1]/div/div/div/div[1]/div[3]/div[2]/button/div/div/div/span\")\n",
    "preco_rapido = driver.find_element(By.XPATH, \"//*[@id='app-root']/div[1]/div/div/div/div[1]/div[3]/div[3]/button/div/div/div/span\")"
   ]
  },
  {
   "cell_type": "code",
   "execution_count": 8,
   "metadata": {},
   "outputs": [
    {
     "ename": "NameError",
     "evalue": "name 'preco_recomendado' is not defined",
     "output_type": "error",
     "traceback": [
      "\u001b[1;31m---------------------------------------------------------------------------\u001b[0m",
      "\u001b[1;31mNameError\u001b[0m                                 Traceback (most recent call last)",
      "Input \u001b[1;32mIn [8]\u001b[0m, in \u001b[0;36m<cell line: 22>\u001b[1;34m()\u001b[0m\n\u001b[0;32m     19\u001b[0m     \u001b[38;5;66;03m# Salva de volta para o CSV\u001b[39;00m\n\u001b[0;32m     20\u001b[0m     updated_df\u001b[38;5;241m.\u001b[39mto_csv(filepath, index\u001b[38;5;241m=\u001b[39m\u001b[38;5;28;01mFalse\u001b[39;00m)\n\u001b[0;32m     22\u001b[0m daily_data \u001b[38;5;241m=\u001b[39m pd\u001b[38;5;241m.\u001b[39mDataFrame({\n\u001b[0;32m     23\u001b[0m     \u001b[38;5;124m'\u001b[39m\u001b[38;5;124mData\u001b[39m\u001b[38;5;124m'\u001b[39m: pd\u001b[38;5;241m.\u001b[39mTimestamp(\u001b[38;5;124m'\u001b[39m\u001b[38;5;124mtoday\u001b[39m\u001b[38;5;124m'\u001b[39m)\u001b[38;5;241m.\u001b[39mstrftime(\u001b[38;5;124m'\u001b[39m\u001b[38;5;124m%\u001b[39m\u001b[38;5;124mY-\u001b[39m\u001b[38;5;124m%\u001b[39m\u001b[38;5;124mm-\u001b[39m\u001b[38;5;132;01m%d\u001b[39;00m\u001b[38;5;124m'\u001b[39m),\n\u001b[1;32m---> 24\u001b[0m     \u001b[38;5;124m'\u001b[39m\u001b[38;5;124mPreço Recomendado\u001b[39m\u001b[38;5;124m'\u001b[39m: \u001b[43mpreco_recomendado\u001b[49m,\n\u001b[0;32m     25\u001b[0m     \u001b[38;5;124m'\u001b[39m\u001b[38;5;124mPreço Mais Barato\u001b[39m\u001b[38;5;124m'\u001b[39m: preco_barato,\n\u001b[0;32m     26\u001b[0m     \u001b[38;5;124m'\u001b[39m\u001b[38;5;124mPreço Mais Rápido\u001b[39m\u001b[38;5;124m'\u001b[39m: preco_rapido\n\u001b[0;32m     27\u001b[0m })\n\u001b[0;32m     29\u001b[0m save_data(daily_data, file_path)\n",
      "\u001b[1;31mNameError\u001b[0m: name 'preco_recomendado' is not defined"
     ]
    }
   ],
   "source": [
    "file_path = 'dados_precos.csv'\n",
    "\n",
    "def load_existing_data(filepath):\n",
    "    try:\n",
    "        # Tenta carregar os dados existentes\n",
    "        return pd.read_csv(filepath)\n",
    "    except FileNotFoundError:\n",
    "        # Se o arquivo não existir, cria um DataFrame vazio com as colunas desejadas\n",
    "        return pd.DataFrame(columns=['Data', 'Preço Recomendado', 'Preço Mais Barato', 'Preço Mais Rápido'])\n",
    "    \n",
    "\n",
    "def save_data(new_data, filepath):\n",
    "    # Carrega os dados existentes\n",
    "    df = load_existing_data(filepath)\n",
    "    \n",
    "    # Concatena os novos dados\n",
    "    updated_df = pd.concat([df, new_data], ignore_index=True)\n",
    "    \n",
    "    # Salva de volta para o CSV\n",
    "    updated_df.to_csv(filepath, index=False)\n",
    "\n",
    "daily_data = pd.DataFrame({\n",
    "    'Data': pd.Timestamp('today').strftime('%Y-%m-%d'),\n",
    "    'Preço Recomendado': preco_recomendado,\n",
    "    'Preço Mais Barato': preco_barato,\n",
    "    'Preço Mais Rápido': preco_rapido\n",
    "})\n",
    "\n",
    "save_data(daily_data, file_path)"
   ]
  },
  {
   "cell_type": "code",
   "execution_count": null,
   "metadata": {},
   "outputs": [],
   "source": [
    "\n",
    "\n",
    "# Esperar até que a página de resultados de voos seja carregada\n",
    "WebDriverWait(driver, 20).until(\n",
    "    EC.visibility_of_element_located((By.XPATH, \"//div[@class='resultsWrapper___1i6rS']\"))\n",
    ")\n",
    "\n",
    "# Obter os resultados dos voos\n",
    "flight_results = driver.find_elements(By.XPATH, \"//div[@class='card___3P3DA']\")\n",
    "\n",
    "# Imprimir os resultados\n",
    "print(\"Oportunidades de voos de Curitiba para São Paulo:\")\n",
    "for result in flight_results:\n",
    "    print(result.text)\n",
    "\n",
    "# Fechar o navegador\n",
    "driver.quit()"
   ]
  },
  {
   "cell_type": "code",
   "execution_count": null,
   "metadata": {},
   "outputs": [],
   "source": []
  }
 ],
 "metadata": {
  "kernelspec": {
   "display_name": "Python 3 (ipykernel)",
   "language": "python",
   "name": "python3"
  },
  "language_info": {
   "codemirror_mode": {
    "name": "ipython",
    "version": 3
   },
   "file_extension": ".py",
   "mimetype": "text/x-python",
   "name": "python",
   "nbconvert_exporter": "python",
   "pygments_lexer": "ipython3",
   "version": "3.9.12"
  }
 },
 "nbformat": 4,
 "nbformat_minor": 2
}

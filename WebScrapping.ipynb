{
 "cells": [
  {
   "cell_type": "code",
   "execution_count": 4,
   "metadata": {},
   "outputs": [],
   "source": [
    "import pandas as pd\n",
    "import requests\n",
    "# para extrair informações de páginas HTML\n",
    "import bs4\n",
    "from bs4 import BeautifulSoup\n",
    "\n",
    "# utilizada para nos indicar o caminho do executável do Python\n",
    "import sys\n",
    "\n",
    "# Para criar um Data Frame\n",
    "import pandas as pd\n",
    "\n",
    "# Controlar espera entre requisições\n",
    "import time\n",
    "# Renderizar HTML\n",
    "import IPython\n"
   ]
  },
  {
   "cell_type": "code",
   "execution_count": 16,
   "metadata": {},
   "outputs": [],
   "source": [
    "from selenium import webdriver\n",
    "from selenium.webdriver.chrome.options import Options\n",
    "from webdriver_manager.chrome import ChromeDriverManager\n",
    "from selenium.webdriver.chrome.service import Service\n",
    "from selenium.webdriver.common.by import By\n",
    "from selenium.webdriver.common.keys import Keys\n",
    "from selenium.webdriver.support.ui import WebDriverWait\n",
    "from selenium.webdriver.support import expected_conditions as EC\n",
    "from selenium.webdriver.common.action_chains import ActionChains\n"
   ]
  },
  {
   "cell_type": "markdown",
   "metadata": {},
   "source": [
    "### Criando um driver\n",
    "\n",
    "Execute a linha abaixo. Você irá perceber que será criada uma janela do navegador Chrome. Deixe esta janela aberta."
   ]
  },
  {
   "cell_type": "code",
   "execution_count": 62,
   "metadata": {},
   "outputs": [],
   "source": [
    "driver = webdriver.Chrome(service=Service(ChromeDriverManager().install()))\n",
    "driver.set_page_load_timeout(60)"
   ]
  },
  {
   "cell_type": "markdown",
   "metadata": {},
   "source": [
    "### Selecione os aeroportos de origem e destino"
   ]
  },
  {
   "cell_type": "code",
   "execution_count": 63,
   "metadata": {},
   "outputs": [],
   "source": [
    "aeroporto_origem = 'Curitiba'\n",
    "aeroporto_destino = 'São Paulo'"
   ]
  },
  {
   "cell_type": "markdown",
   "metadata": {},
   "source": [
    "# Começar o Web Scrapping\n"
   ]
  },
  {
   "cell_type": "markdown",
   "metadata": {},
   "source": [
    "### Selecionar a url e abrir o site"
   ]
  },
  {
   "cell_type": "code",
   "execution_count": 77,
   "metadata": {},
   "outputs": [],
   "source": [
    "url = \"https://www.decolar.com/\"\n",
    "\n",
    "# Abrir o site da Decolar\n",
    "driver.get(url)"
   ]
  },
  {
   "cell_type": "markdown",
   "metadata": {},
   "source": [
    "### Digitar nossa origem na barra de pesquisa"
   ]
  },
  {
   "cell_type": "code",
   "execution_count": 80,
   "metadata": {},
   "outputs": [],
   "source": [
    "# Esperar até que a barra de pesquisa esteja disponível\n",
    "search_bar_origem = WebDriverWait(driver, 10).until(\n",
    "    EC.presence_of_element_located((By.XPATH, \"//*[@id='searchbox-sbox-box-flights']/div/div/div/div[3]/div[1]/div[1]/div[1]/div/div[1]/div[1]/div/input\"))\n",
    ")\n",
    "\n",
    "# Limpar o campo de origem e inserir aeroporto origem\n",
    "#search_bar_origem.clear()\n",
    "#time.sleep(1)\n",
    "\n",
    "# Digitar \"Curitiba\" na caixa de texto\n",
    "ActionChains(driver).click(search_bar_origem).key_down(Keys.CONTROL).send_keys(\"a\").key_up(Keys.CONTROL).send_keys(Keys.DELETE).perform()\n",
    "ActionChains(driver).send_keys_to_element(search_bar_origem, aeroporto_origem).perform()\n",
    "time.sleep(1)\n",
    "ActionChains(driver).send_keys(Keys.ENTER).perform()\n",
    "time.sleep(1)"
   ]
  },
  {
   "cell_type": "markdown",
   "metadata": {},
   "source": [
    "### Digitar nosso destino na barra de pesquisa"
   ]
  },
  {
   "cell_type": "code",
   "execution_count": 81,
   "metadata": {},
   "outputs": [],
   "source": [
    "search_bar_destino = driver.find_element(By.XPATH, \"//*[@id='searchbox-sbox-box-flights']/div/div/div/div[3]/div[1]/div[1]/div[1]/div/div[2]/div/div/input\")\n",
    "\n",
    "ActionChains(driver).send_keys_to_element(search_bar_destino, aeroporto_destino).perform()\n",
    "time.sleep(1)\n",
    "ActionChains(driver).send_keys(Keys.ENTER).perform()\n",
    "time.sleep(1)"
   ]
  },
  {
   "cell_type": "markdown",
   "metadata": {},
   "source": [
    "### Selecionar Data de partida e retorno"
   ]
  },
  {
   "cell_type": "markdown",
   "metadata": {},
   "source": [
    "data_patida = ''\n",
    "# Fazer codigo para funcionar achar as datas"
   ]
  },
  {
   "cell_type": "code",
   "execution_count": 82,
   "metadata": {},
   "outputs": [],
   "source": [
    "# Inserir a data de partida e retorno\n",
    "\n",
    "#//*[@id='component-modals']/div[1]/div[2]/div/div[1]/div[3]/div[17] mes 5 dia 17\n",
    "                                                   #|  1 significa mes atual\n",
    "#//*[@id=\"component-modals\"]/div[1]/div[2]/div/div[2]/div[3]/div[17]/div mes 6 dia 17\n",
    "data_partida_selector = driver.find_element(By.XPATH, \"//*[@id='searchbox-sbox-box-flights']/div/div/div/div[3]/div[1]/div[1]/div[2]/div/div[1]/div/div/div/div/input\")\n",
    "data_partida_selector.click()\n",
    "data_partida = driver.find_element(By.XPATH, \"//*[@id='component-modals']/div[1]/div[2]/div/div[1]/div[3]/div[17]/div\")\n",
    "data_partida.click()\n",
    "\n",
    "data_retorno_selector = driver.find_element(By.XPATH, \"//*[@id='searchbox-sbox-box-flights']/div/div/div/div[3]/div[1]/div[1]/div[2]/div/div[2]/div/div/div/div/input\")\n",
    "data_retorno_selector.click()\n",
    "data_retorno = driver.find_element(By.XPATH, \"//*[@id='component-modals']/div[1]/div[2]/div/div[2]/div[3]/div[17]/div\")\n",
    "data_retorno.click()\n",
    "\n",
    "botao_aplicar = driver.find_element(By.XPATH, \"//*[@id='component-modals']/div[1]/div[3]/div[1]/button/em\")\n",
    "botao_aplicar.click()"
   ]
  },
  {
   "cell_type": "markdown",
   "metadata": {},
   "source": [
    "Codigo acima funciona! mas precisa ver como fazer para que um input digitado ache a data correta no Xpath"
   ]
  },
  {
   "cell_type": "code",
   "execution_count": 30,
   "metadata": {},
   "outputs": [
    {
     "ename": "NoSuchElementException",
     "evalue": "Message: no such element: Unable to locate element: {\"method\":\"css selector\",\"selector\":\"[id=\"departure_date-input\"]\"}\n  (Session info: chrome=124.0.6367.119); For documentation on this error, please visit: https://www.selenium.dev/documentation/webdriver/troubleshooting/errors#no-such-element-exception\nStacktrace:\n\tGetHandleVerifier [0x005BC213+48259]\n\t(No symbol) [0x0054CB41]\n\t(No symbol) [0x00440A17]\n\t(No symbol) [0x00480BED]\n\t(No symbol) [0x00480C9B]\n\t(No symbol) [0x004BBC12]\n\t(No symbol) [0x004A0DE4]\n\t(No symbol) [0x004B9B9C]\n\t(No symbol) [0x004A0B36]\n\t(No symbol) [0x0047570D]\n\t(No symbol) [0x004762CD]\n\tGetHandleVerifier [0x008766A3+2908435]\n\tGetHandleVerifier [0x008B3CBB+3159851]\n\tGetHandleVerifier [0x006551CB+674875]\n\tGetHandleVerifier [0x0065B38C+699900]\n\t(No symbol) [0x00556344]\n\t(No symbol) [0x00552398]\n\t(No symbol) [0x0055252C]\n\t(No symbol) [0x00544CB0]\n\tBaseThreadInitThunk [0x76037BA9+25]\n\tRtlInitializeExceptionChain [0x76EFBE3B+107]\n\tRtlClearBits [0x76EFBDBF+191]\n",
     "output_type": "error",
     "traceback": [
      "\u001b[1;31m---------------------------------------------------------------------------\u001b[0m",
      "\u001b[1;31mNoSuchElementException\u001b[0m                    Traceback (most recent call last)",
      "Cell \u001b[1;32mIn[30], line 35\u001b[0m\n\u001b[0;32m     30\u001b[0m search_bar_destino\u001b[38;5;241m.\u001b[39msend_keys(Keys\u001b[38;5;241m.\u001b[39mENTER)\n\u001b[0;32m     34\u001b[0m \u001b[38;5;66;03m# Inserir a data de partida e retorno\u001b[39;00m\n\u001b[1;32m---> 35\u001b[0m departure_date \u001b[38;5;241m=\u001b[39m \u001b[43mdriver\u001b[49m\u001b[38;5;241;43m.\u001b[39;49m\u001b[43mfind_element\u001b[49m\u001b[43m(\u001b[49m\u001b[43mBy\u001b[49m\u001b[38;5;241;43m.\u001b[39;49m\u001b[43mID\u001b[49m\u001b[43m,\u001b[49m\u001b[43m \u001b[49m\u001b[38;5;124;43m\"\u001b[39;49m\u001b[38;5;124;43mdeparture_date-input\u001b[39;49m\u001b[38;5;124;43m\"\u001b[39;49m\u001b[43m)\u001b[49m\n\u001b[0;32m     36\u001b[0m departure_date\u001b[38;5;241m.\u001b[39mclear()\n\u001b[0;32m     37\u001b[0m departure_date\u001b[38;5;241m.\u001b[39msend_keys(\u001b[38;5;124m\"\u001b[39m\u001b[38;5;124m2024-06-01\u001b[39m\u001b[38;5;124m\"\u001b[39m)  \u001b[38;5;66;03m# Data de partida desejada\u001b[39;00m\n",
      "File \u001b[1;32mc:\\Python312\\Lib\\site-packages\\selenium\\webdriver\\remote\\webdriver.py:741\u001b[0m, in \u001b[0;36mWebDriver.find_element\u001b[1;34m(self, by, value)\u001b[0m\n\u001b[0;32m    738\u001b[0m     by \u001b[38;5;241m=\u001b[39m By\u001b[38;5;241m.\u001b[39mCSS_SELECTOR\n\u001b[0;32m    739\u001b[0m     value \u001b[38;5;241m=\u001b[39m \u001b[38;5;124mf\u001b[39m\u001b[38;5;124m'\u001b[39m\u001b[38;5;124m[name=\u001b[39m\u001b[38;5;124m\"\u001b[39m\u001b[38;5;132;01m{\u001b[39;00mvalue\u001b[38;5;132;01m}\u001b[39;00m\u001b[38;5;124m\"\u001b[39m\u001b[38;5;124m]\u001b[39m\u001b[38;5;124m'\u001b[39m\n\u001b[1;32m--> 741\u001b[0m \u001b[38;5;28;01mreturn\u001b[39;00m \u001b[38;5;28;43mself\u001b[39;49m\u001b[38;5;241;43m.\u001b[39;49m\u001b[43mexecute\u001b[49m\u001b[43m(\u001b[49m\u001b[43mCommand\u001b[49m\u001b[38;5;241;43m.\u001b[39;49m\u001b[43mFIND_ELEMENT\u001b[49m\u001b[43m,\u001b[49m\u001b[43m \u001b[49m\u001b[43m{\u001b[49m\u001b[38;5;124;43m\"\u001b[39;49m\u001b[38;5;124;43musing\u001b[39;49m\u001b[38;5;124;43m\"\u001b[39;49m\u001b[43m:\u001b[49m\u001b[43m \u001b[49m\u001b[43mby\u001b[49m\u001b[43m,\u001b[49m\u001b[43m \u001b[49m\u001b[38;5;124;43m\"\u001b[39;49m\u001b[38;5;124;43mvalue\u001b[39;49m\u001b[38;5;124;43m\"\u001b[39;49m\u001b[43m:\u001b[49m\u001b[43m \u001b[49m\u001b[43mvalue\u001b[49m\u001b[43m}\u001b[49m\u001b[43m)\u001b[49m[\u001b[38;5;124m\"\u001b[39m\u001b[38;5;124mvalue\u001b[39m\u001b[38;5;124m\"\u001b[39m]\n",
      "File \u001b[1;32mc:\\Python312\\Lib\\site-packages\\selenium\\webdriver\\remote\\webdriver.py:347\u001b[0m, in \u001b[0;36mWebDriver.execute\u001b[1;34m(self, driver_command, params)\u001b[0m\n\u001b[0;32m    345\u001b[0m response \u001b[38;5;241m=\u001b[39m \u001b[38;5;28mself\u001b[39m\u001b[38;5;241m.\u001b[39mcommand_executor\u001b[38;5;241m.\u001b[39mexecute(driver_command, params)\n\u001b[0;32m    346\u001b[0m \u001b[38;5;28;01mif\u001b[39;00m response:\n\u001b[1;32m--> 347\u001b[0m     \u001b[38;5;28;43mself\u001b[39;49m\u001b[38;5;241;43m.\u001b[39;49m\u001b[43merror_handler\u001b[49m\u001b[38;5;241;43m.\u001b[39;49m\u001b[43mcheck_response\u001b[49m\u001b[43m(\u001b[49m\u001b[43mresponse\u001b[49m\u001b[43m)\u001b[49m\n\u001b[0;32m    348\u001b[0m     response[\u001b[38;5;124m\"\u001b[39m\u001b[38;5;124mvalue\u001b[39m\u001b[38;5;124m\"\u001b[39m] \u001b[38;5;241m=\u001b[39m \u001b[38;5;28mself\u001b[39m\u001b[38;5;241m.\u001b[39m_unwrap_value(response\u001b[38;5;241m.\u001b[39mget(\u001b[38;5;124m\"\u001b[39m\u001b[38;5;124mvalue\u001b[39m\u001b[38;5;124m\"\u001b[39m, \u001b[38;5;28;01mNone\u001b[39;00m))\n\u001b[0;32m    349\u001b[0m     \u001b[38;5;28;01mreturn\u001b[39;00m response\n",
      "File \u001b[1;32mc:\\Python312\\Lib\\site-packages\\selenium\\webdriver\\remote\\errorhandler.py:229\u001b[0m, in \u001b[0;36mErrorHandler.check_response\u001b[1;34m(self, response)\u001b[0m\n\u001b[0;32m    227\u001b[0m         alert_text \u001b[38;5;241m=\u001b[39m value[\u001b[38;5;124m\"\u001b[39m\u001b[38;5;124malert\u001b[39m\u001b[38;5;124m\"\u001b[39m]\u001b[38;5;241m.\u001b[39mget(\u001b[38;5;124m\"\u001b[39m\u001b[38;5;124mtext\u001b[39m\u001b[38;5;124m\"\u001b[39m)\n\u001b[0;32m    228\u001b[0m     \u001b[38;5;28;01mraise\u001b[39;00m exception_class(message, screen, stacktrace, alert_text)  \u001b[38;5;66;03m# type: ignore[call-arg]  # mypy is not smart enough here\u001b[39;00m\n\u001b[1;32m--> 229\u001b[0m \u001b[38;5;28;01mraise\u001b[39;00m exception_class(message, screen, stacktrace)\n",
      "\u001b[1;31mNoSuchElementException\u001b[0m: Message: no such element: Unable to locate element: {\"method\":\"css selector\",\"selector\":\"[id=\"departure_date-input\"]\"}\n  (Session info: chrome=124.0.6367.119); For documentation on this error, please visit: https://www.selenium.dev/documentation/webdriver/troubleshooting/errors#no-such-element-exception\nStacktrace:\n\tGetHandleVerifier [0x005BC213+48259]\n\t(No symbol) [0x0054CB41]\n\t(No symbol) [0x00440A17]\n\t(No symbol) [0x00480BED]\n\t(No symbol) [0x00480C9B]\n\t(No symbol) [0x004BBC12]\n\t(No symbol) [0x004A0DE4]\n\t(No symbol) [0x004B9B9C]\n\t(No symbol) [0x004A0B36]\n\t(No symbol) [0x0047570D]\n\t(No symbol) [0x004762CD]\n\tGetHandleVerifier [0x008766A3+2908435]\n\tGetHandleVerifier [0x008B3CBB+3159851]\n\tGetHandleVerifier [0x006551CB+674875]\n\tGetHandleVerifier [0x0065B38C+699900]\n\t(No symbol) [0x00556344]\n\t(No symbol) [0x00552398]\n\t(No symbol) [0x0055252C]\n\t(No symbol) [0x00544CB0]\n\tBaseThreadInitThunk [0x76037BA9+25]\n\tRtlInitializeExceptionChain [0x76EFBE3B+107]\n\tRtlClearBits [0x76EFBDBF+191]\n"
     ]
    }
   ],
   "source": [
    "# Clicar no botão de buscar voos\n",
    "search_button = driver.find_element(By.XPATH, \"//button[@data-testid='flights-search-button']\")\n",
    "search_button.click()\n",
    "\n",
    "# Esperar até que a página de resultados de voos seja carregada\n",
    "WebDriverWait(driver, 20).until(\n",
    "    EC.visibility_of_element_located((By.XPATH, \"//div[@class='resultsWrapper___1i6rS']\"))\n",
    ")\n",
    "\n",
    "# Obter os resultados dos voos\n",
    "flight_results = driver.find_elements(By.XPATH, \"//div[@class='card___3P3DA']\")\n",
    "\n",
    "# Imprimir os resultados\n",
    "print(\"Oportunidades de voos de Curitiba para São Paulo:\")\n",
    "for result in flight_results:\n",
    "    print(result.text)\n",
    "\n",
    "# Fechar o navegador\n",
    "driver.quit()"
   ]
  },
  {
   "cell_type": "code",
   "execution_count": null,
   "metadata": {},
   "outputs": [],
   "source": []
  }
 ],
 "metadata": {
  "kernelspec": {
   "display_name": "Python 3",
   "language": "python",
   "name": "python3"
  },
  "language_info": {
   "codemirror_mode": {
    "name": "ipython",
    "version": 3
   },
   "file_extension": ".py",
   "mimetype": "text/x-python",
   "name": "python",
   "nbconvert_exporter": "python",
   "pygments_lexer": "ipython3",
   "version": "3.12.2"
  }
 },
 "nbformat": 4,
 "nbformat_minor": 2
}
